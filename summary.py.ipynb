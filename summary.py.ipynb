{
 "cells": [
  {
   "cell_type": "code",
   "execution_count": 26,
   "id": "281d1918",
   "metadata": {},
   "outputs": [],
   "source": [
    "import logging\n",
    "import sys\n",
    "from IPython.display import Markdown, display\n",
    "\n",
    "logging.basicConfig(stream=sys.stdout, level=logging.INFO)\n",
    "logging.getLogger().addHandler(logging.StreamHandler(stream=sys.stdout))"
   ]
  },
  {
   "cell_type": "code",
   "execution_count": 48,
   "id": "faacd2cd",
   "metadata": {},
   "outputs": [],
   "source": [
    "import os.path\n",
    "from llama_index import VectorStoreIndex, GPTTreeIndex, SummaryIndex\n",
    "from llama_index import SimpleDirectoryReader, StorageContext, load_index_from_storage\n",
    "from llama_index import SummaryPrompt, ServiceContext\n",
    "from llama_index.llms import OpenAI"
   ]
  },
  {
   "cell_type": "code",
   "execution_count": 49,
   "id": "b8b6c2d8",
   "metadata": {},
   "outputs": [],
   "source": [
    "llm = OpenAI(model=\"gpt-4\")\n",
    "service_context = ServiceContext.from_defaults(llm=llm)"
   ]
  },
  {
   "cell_type": "code",
   "execution_count": 56,
   "id": "7c948d17",
   "metadata": {},
   "outputs": [],
   "source": [
    "DATA_PATH = \"./data\"\n",
    "INDEX_PATH_VECTOR = \"./storage_vector\"\n",
    "INDEX_PATH_SUMMARY = \"./storage_summary\"\n",
    "INDEX_PATH_TREE = \"./storage_tree\""
   ]
  },
  {
   "cell_type": "code",
   "execution_count": 51,
   "id": "d37c94b8",
   "metadata": {},
   "outputs": [],
   "source": [
    "query_str = \"What is a summary of the 48th Tank Battalion's experiences between the time they left Lupstein in February 1945 and the announcement of VE Day in May 1945?\""
   ]
  },
  {
   "cell_type": "markdown",
   "id": "6cbd60e2",
   "metadata": {},
   "source": [
    "## VECTOR INDEX ##"
   ]
  },
  {
   "cell_type": "code",
   "execution_count": 52,
   "id": "320146e8",
   "metadata": {},
   "outputs": [],
   "source": [
    "# check if storage already exists\n",
    "if (not os.path.exists(INDEX_PATH_VECTOR)):\n",
    "    # load the documents and create the index\n",
    "    documents = SimpleDirectoryReader(DATA_PATH).load_data()\n",
    "    index = VectorStoreIndex.from_documents(documents, service_context=service_context)\n",
    "    # store it for later\n",
    "    index.storage_context.persist(persist_dir=INDEX_PATH_VECTOR)\n",
    "else:\n",
    "    # load the existing index\n",
    "    storage_context = StorageContext.from_defaults(persist_dir=INDEX_PATH_VECTOR)\n",
    "    index = load_index_from_storage(storage_context)"
   ]
  },
  {
   "cell_type": "code",
   "execution_count": 53,
   "id": "a371c03c",
   "metadata": {},
   "outputs": [
    {
     "data": {
      "text/markdown": [
       "<b>The context does not provide information on the 48th Tank Battalion's experiences between the time they left Lupstein in February 1945 and the announcement of VE Day in May 1945.</b>"
      ],
      "text/plain": [
       "<IPython.core.display.Markdown object>"
      ]
     },
     "metadata": {},
     "output_type": "display_data"
    }
   ],
   "source": [
    "query_engine = index.as_query_engine(response_mode=\"tree_summarize\")\n",
    "response = query_engine.query(query_str)\n",
    "display(Markdown(f\"<b>{response}</b>\"))"
   ]
  },
  {
   "cell_type": "markdown",
   "id": "a923c209",
   "metadata": {},
   "source": [
    "Notes: This is not correct!?"
   ]
  },
  {
   "cell_type": "markdown",
   "id": "ef0e70ae",
   "metadata": {},
   "source": [
    "## SUMMARY INDEX ##"
   ]
  },
  {
   "cell_type": "code",
   "execution_count": 57,
   "id": "b14ea27f",
   "metadata": {},
   "outputs": [
    {
     "name": "stdout",
     "output_type": "stream",
     "text": [
      "INFO:llama_index.indices.loading:Loading all indices.\n",
      "Loading all indices.\n",
      "Loading all indices.\n",
      "Loading all indices.\n",
      "Loading all indices.\n"
     ]
    }
   ],
   "source": [
    "# check if storage already exists\n",
    "if (not os.path.exists(INDEX_PATH_SUMMARY)):\n",
    "    # load the documents and create the index\n",
    "    documents = SimpleDirectoryReader(DATA_PATH).load_data()\n",
    "    index = SummaryIndex.from_documents(documents, service_context=service_context)\n",
    "    # store it for later\n",
    "    index.storage_context.persist(persist_dir=INDEX_PATH_SUMMARY)\n",
    "else:\n",
    "    # load the existing index\n",
    "    storage_context = StorageContext.from_defaults(persist_dir=INDEX_PATH_SUMMARY)\n",
    "    index = load_index_from_storage(storage_context)"
   ]
  },
  {
   "cell_type": "code",
   "execution_count": 55,
   "id": "b005d4ac",
   "metadata": {},
   "outputs": [
    {
     "data": {
      "text/markdown": [
       "<b>The 48th Tank Battalion had a series of significant military engagements from February to May 1945. Initially, they were attached to the 42nd Infantry Division and tasked with breaching the Siegfried Line, Germany's main line of defense, which they successfully accomplished. They then moved to Wissembourg where they were involved in clearing mines and pillboxes. The battalion also had the unique possession of the “Ripple Dipple” or Multi-barrelled Rocket projector. \n",
       "\n",
       "They participated in the Battle of Central Europe, advancing through several towns across the Rhine River, dealing with resistance and obstacles. They were also responsible for clearing German towns, handling roadblocks, and releasing Allied prisoners of war. The battalion seized important bridge crossings at the Isar River at Jettenbach and managed a continuous flow of prisoners. They were involved in the occupation of towns and handling displaced personnel. Their experiences during this period culminated in the announcement of VE Day in May 1945, marking the end of hostilities in Europe.</b>"
      ],
      "text/plain": [
       "<IPython.core.display.Markdown object>"
      ]
     },
     "metadata": {},
     "output_type": "display_data"
    }
   ],
   "source": [
    "query_engine = index.as_query_engine(response_mode=\"tree_summarize\")\n",
    "response = query_engine.query(query_str)\n",
    "display(Markdown(f\"<b>{response}</b>\"))"
   ]
  },
  {
   "cell_type": "markdown",
   "id": "8e7341dc",
   "metadata": {},
   "source": [
    "Notes: This is good, concise but with good details"
   ]
  },
  {
   "cell_type": "markdown",
   "id": "d0e886f1",
   "metadata": {},
   "source": [
    "## TREE INDEX ##"
   ]
  },
  {
   "cell_type": "code",
   "execution_count": 59,
   "id": "78b131d7",
   "metadata": {},
   "outputs": [
    {
     "name": "stdout",
     "output_type": "stream",
     "text": [
      "INFO:llama_index.indices.common_tree.base:> Building index from nodes: 1 chunks\n",
      "> Building index from nodes: 1 chunks\n",
      "> Building index from nodes: 1 chunks\n",
      "> Building index from nodes: 1 chunks\n",
      "> Building index from nodes: 1 chunks\n"
     ]
    }
   ],
   "source": [
    "# check if storage already exists\n",
    "if (not os.path.exists(INDEX_PATH_TREE)):\n",
    "    # load the documents and create the index\n",
    "    documents = SimpleDirectoryReader(DATA_PATH).load_data()\n",
    "    index = GPTTreeIndex.from_documents(documents, service_context=service_context)\n",
    "    # store it for later\n",
    "    index.storage_context.persist(persist_dir=INDEX_PATH_TREE)\n",
    "else:\n",
    "    # load the existing index\n",
    "    storage_context = StorageContext.from_defaults(persist_dir=INDEX_PATH_TREE)\n",
    "    index = load_index_from_storage(storage_context)"
   ]
  },
  {
   "cell_type": "code",
   "execution_count": 60,
   "id": "57c9f40a",
   "metadata": {},
   "outputs": [
    {
     "name": "stdout",
     "output_type": "stream",
     "text": [
      "INFO:llama_index.indices.tree.select_leaf_retriever:>[Level 0] Selected node: [2]/[2]\n",
      ">[Level 0] Selected node: [2]/[2]\n",
      ">[Level 0] Selected node: [2]/[2]\n",
      ">[Level 0] Selected node: [2]/[2]\n",
      ">[Level 0] Selected node: [2]/[2]\n",
      "INFO:llama_index.indices.tree.select_leaf_retriever:>[Level 1] Selected node: [1]/[1]\n",
      ">[Level 1] Selected node: [1]/[1]\n",
      ">[Level 1] Selected node: [1]/[1]\n",
      ">[Level 1] Selected node: [1]/[1]\n",
      ">[Level 1] Selected node: [1]/[1]\n"
     ]
    },
    {
     "data": {
      "text/markdown": [
       "<b>The 48th Tank Battalion had a series of intense experiences between leaving Lupstein in February 1945 and the announcement of VE Day in May 1945. They consolidated their gains and posted security, with the men getting some much-needed rest. They coordinated an attack plan with the Third Division and made an initial push at dawn, securing towns in the vicinity. They moved towards Neustadt, taking over town after town and leaving troops behind to maintain control. After overcoming resistance, they occupied one of the largest cities they had encountered, necessitating an intensive guard patrol system. \n",
       "\n",
       "The men had a brief respite where they could rest, take showers, catch up on mail, and get paid in Marks. They covered over 150 miles from Otterbach to Neustadt, across various terrains and against unknown resistance. They were alerted for movement again on April 11th, with the main objective being Bad Staffelstein. They moved through numerous towns and villages, encountering small arms and sniper fire. They reached the Mainz river, but all bridges were blown. They were forced to make a crossing and seize the next town. \n",
       "\n",
       "The battalion was tasked with cutting and securing the Autobahn running east of Nuremberg, which was being seized by the 3rd and 45th Infantry Divisions. They faced small arms and artillery fire, and terrain obstacles. Upon reaching the Autobahn, they headed south to Neudorf, dispersing companies to outlying towns and ordered to hold their positions.</b>"
      ],
      "text/plain": [
       "<IPython.core.display.Markdown object>"
      ]
     },
     "metadata": {},
     "output_type": "display_data"
    }
   ],
   "source": [
    "query_engine = index.as_query_engine(response_mode=\"tree_summarize\")\n",
    "response = query_engine.query(query_str)\n",
    "display(Markdown(f\"<b>{response}</b>\"))"
   ]
  },
  {
   "cell_type": "markdown",
   "id": "4da5f8b9",
   "metadata": {},
   "source": [
    "Notes: This is too much detail"
   ]
  },
  {
   "cell_type": "markdown",
   "id": "881df9b1",
   "metadata": {},
   "source": [
    "## TREE INDEX W/ SUMMARY PROMPT ##"
   ]
  },
  {
   "cell_type": "code",
   "execution_count": 69,
   "id": "b6173c23",
   "metadata": {},
   "outputs": [],
   "source": [
    "# define custom SummaryPrompt\n",
    "SUMMARY_PROMPT_TMPL = (\n",
    "    \"Write a summary of the following. Try to use only the \"\n",
    "    \"information provided. \"\n",
    "    \"Try to include as many key details as possible with an emphasis on dates and names of towns.\\n\"\n",
    "    \"\\n\"\n",
    "    \"\\n\"\n",
    "    \"{context_str}\\n\"\n",
    "    \"\\n\"\n",
    "    \"\\n\"\n",
    "    'SUMMARY:\"\"\"\\n'\n",
    ")\n",
    "SUMMARY_PROMPT = SummaryPrompt(SUMMARY_PROMPT_TMPL)"
   ]
  },
  {
   "cell_type": "code",
   "execution_count": 70,
   "id": "004a2607",
   "metadata": {},
   "outputs": [
    {
     "name": "stdout",
     "output_type": "stream",
     "text": [
      "INFO:llama_index.indices.loading:Loading all indices.\n",
      "Loading all indices.\n",
      "Loading all indices.\n",
      "Loading all indices.\n",
      "Loading all indices.\n"
     ]
    }
   ],
   "source": [
    "# check if storage already exists\n",
    "if (not os.path.exists(INDEX_PATH_TREE)):\n",
    "    # load the documents and create the index\n",
    "    documents = SimpleDirectoryReader(DATA_PATH).load_data()\n",
    "    index = GPTTreeIndex.from_documents(documents, service_context=service_context, summary_template=SUMMARY_PROMPT)\n",
    "    # store it for later\n",
    "    index.storage_context.persist(persist_dir=INDEX_PATH_TREE)\n",
    "else:\n",
    "    # load the existing index\n",
    "    storage_context = StorageContext.from_defaults(persist_dir=INDEX_PATH_TREE)\n",
    "    index = load_index_from_storage(storage_context)"
   ]
  },
  {
   "cell_type": "code",
   "execution_count": 73,
   "id": "f1d7e3ea",
   "metadata": {},
   "outputs": [
    {
     "name": "stdout",
     "output_type": "stream",
     "text": [
      "INFO:llama_index.indices.tree.select_leaf_retriever:>[Level 0] Selected node: [2]/[2]\n",
      ">[Level 0] Selected node: [2]/[2]\n",
      ">[Level 0] Selected node: [2]/[2]\n",
      ">[Level 0] Selected node: [2]/[2]\n",
      ">[Level 0] Selected node: [2]/[2]\n",
      "INFO:llama_index.indices.tree.select_leaf_retriever:>[Level 1] Selected node: [1]/[1]\n",
      ">[Level 1] Selected node: [1]/[1]\n",
      ">[Level 1] Selected node: [1]/[1]\n",
      ">[Level 1] Selected node: [1]/[1]\n",
      ">[Level 1] Selected node: [1]/[1]\n"
     ]
    },
    {
     "data": {
      "text/markdown": [
       "<b>The 48th Tank Battalion embarked on a mission to secure towns and push towards Neustadt. They faced resistance but managed to reach their objective and establish control. After a few days of rest, they were alerted for movement towards Bad Staffelstein. They encountered small arms and sniper fire, and despite blown bridges, they forced a crossing and occupied the next town. The battalion's main objective was to cut and secure the Autobahn near Nuremberg. They faced opposition and overcame terrain obstacles, eventually reaching the Autobahn and heading south. Companies were dispersed to outlying towns, and their orders were to hold their positions.</b>"
      ],
      "text/plain": [
       "<IPython.core.display.Markdown object>"
      ]
     },
     "metadata": {},
     "output_type": "display_data"
    }
   ],
   "source": [
    "query_engine = index.as_query_engine(response_mode=\"tree_summarize\")\n",
    "response = query_engine.query(query_str)\n",
    "display(Markdown(f\"<b>{response}</b>\"))"
   ]
  },
  {
   "cell_type": "markdown",
   "id": "dae1f077",
   "metadata": {},
   "source": [
    "Notes: This is not bad but too concise"
   ]
  },
  {
   "cell_type": "code",
   "execution_count": null,
   "id": "a62b1bab",
   "metadata": {},
   "outputs": [],
   "source": []
  }
 ],
 "metadata": {
  "kernelspec": {
   "display_name": "Python 3 (ipykernel)",
   "language": "python",
   "name": "python3"
  },
  "language_info": {
   "codemirror_mode": {
    "name": "ipython",
    "version": 3
   },
   "file_extension": ".py",
   "mimetype": "text/x-python",
   "name": "python",
   "nbconvert_exporter": "python",
   "pygments_lexer": "ipython3",
   "version": "3.10.10"
  }
 },
 "nbformat": 4,
 "nbformat_minor": 5
}
